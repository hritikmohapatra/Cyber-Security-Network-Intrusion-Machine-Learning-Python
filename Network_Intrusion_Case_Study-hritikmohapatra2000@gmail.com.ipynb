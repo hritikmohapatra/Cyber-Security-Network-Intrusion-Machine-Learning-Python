{
 "cells": [
  {
   "cell_type": "code",
   "execution_count": 1,
   "metadata": {
    "ExecuteTime": {
     "end_time": "2023-01-24T06:30:04.794554Z",
     "start_time": "2023-01-24T06:30:00.208713Z"
    },
    "id": "iiDOUJUTbvYD"
   },
   "outputs": [],
   "source": [
    "# Importing necassary modules\n",
    "import pandas as pd\n",
    "import numpy as np\n",
    "\n",
    "import matplotlib.pyplot as plt\n",
    "%matplotlib inline\n",
    "import seaborn as sns\n",
    "plt.style.use('bmh')\n",
    "\n",
    "from warnings import filterwarnings\n",
    "filterwarnings('ignore')\n",
    "import math\n",
    "\n",
    "from sklearn.linear_model import LogisticRegression\n",
    "from sklearn.model_selection import train_test_split\n",
    "\n",
    "import sklearn.metrics as metrics\n",
    "from imblearn.over_sampling import SMOTE\n",
    "from sklearn.neighbors import KNeighborsClassifier\n",
    "\n",
    "from sklearn.feature_selection import RFE, SelectKBest, chi2, f_classif\n",
    "from sklearn.ensemble import RandomForestClassifier\n",
    "from sklearn.model_selection import GridSearchCV\n",
    "from sklearn.ensemble import GradientBoostingClassifier\n",
    "from sklearn.ensemble import BaggingClassifier"
   ]
  },
  {
   "cell_type": "code",
   "execution_count": 2,
   "metadata": {
    "ExecuteTime": {
     "end_time": "2023-01-24T06:30:09.192812Z",
     "start_time": "2023-01-24T06:30:06.204424Z"
    },
    "id": "QUKGAgoTw22g"
   },
   "outputs": [],
   "source": [
    "#Importing data\n",
    "Data_of_Attack_Back_PortSweep=pd.read_csv('Data_of_Attack_Back_PortSweep.csv')\n",
    "Data_of_Attack_Back=pd.read_csv('Data_of_Attack_Back.csv')\n",
    "Data_of_Attack_Back_FTPWrite=pd.read_csv('Data_of_Attack_Back_FTPWrite.csv')\n",
    "Data_of_Attack_Back_GuessPassword=pd.read_csv('Data_of_Attack_Back_GuessPassword.csv')\n",
    "Data_of_Attack_Back_Neptune=pd.read_csv('Data_of_Attack_Back_Neptune.csv')\n",
    "Data_of_Attack_Back_NMap=pd.read_csv('Data_of_Attack_Back_NMap.csv')\n",
    "Data_of_Attack_Back_Normal=pd.read_csv('Data_of_Attack_Back_Normal.csv')\n",
    "Data_of_Attack_Back_RootKit=pd.read_csv('Data_of_Attack_Back_RootKit.csv')\n",
    "Data_of_Attack_Back_Satan=pd.read_csv('Data_of_Attack_Back_Satan.csv')\n",
    "Data_of_Attack_Back_Smurf=pd.read_csv('Data_of_Attack_Back_Smurf.csv')\n",
    "Data_of_Attack_Back_BufferOverflow=pd.read_csv('Data_of_Attack_Back_BufferOverflow.csv')\n"
   ]
  },
  {
   "cell_type": "markdown",
   "metadata": {
    "id": "fZn_Ad0WbvYF"
   },
   "source": [
    "## Data Preparation"
   ]
  },
  {
   "cell_type": "code",
   "execution_count": 3,
   "metadata": {
    "ExecuteTime": {
     "end_time": "2023-01-24T06:30:10.777881Z",
     "start_time": "2023-01-24T06:30:10.750192Z"
    },
    "id": "G25bX74tbvYG"
   },
   "outputs": [],
   "source": [
    "#Creating attack variable\n",
    "Data_of_Attack_Back_PortSweep['attack']='PortSweep'\n",
    "Data_of_Attack_Back['attack']='Back'\n",
    "Data_of_Attack_Back_FTPWrite['attack']='FTPWrite'\n",
    "Data_of_Attack_Back_GuessPassword['attack']='GuessPassword'\n",
    "Data_of_Attack_Back_Neptune['attack']='Neptune'\n",
    "Data_of_Attack_Back_NMap['attack']='NMap'\n",
    "Data_of_Attack_Back_Normal['attack']='Normal'\n",
    "Data_of_Attack_Back_RootKit['attack']='RootKit'\n",
    "Data_of_Attack_Back_Satan['attack']='Satan'\n",
    "Data_of_Attack_Back_Smurf['attack']='Smurf'\n",
    "Data_of_Attack_Back_BufferOverflow['attack']='BufferOverflow'"
   ]
  },
  {
   "cell_type": "code",
   "execution_count": 4,
   "metadata": {
    "ExecuteTime": {
     "end_time": "2023-01-24T06:30:12.455778Z",
     "start_time": "2023-01-24T06:30:12.195074Z"
    },
    "id": "HfAug9iDbvYG"
   },
   "outputs": [],
   "source": [
    "# Merging all the tables\n",
    "data= pd.concat([Data_of_Attack_Back_PortSweep,Data_of_Attack_Back,\n",
    "Data_of_Attack_Back_FTPWrite, Data_of_Attack_Back_GuessPassword,\n",
    "Data_of_Attack_Back_Neptune,Data_of_Attack_Back_NMap,\n",
    "Data_of_Attack_Back_Normal,Data_of_Attack_Back_RootKit,\n",
    "Data_of_Attack_Back_Satan,Data_of_Attack_Back_Smurf,\n",
    "Data_of_Attack_Back_BufferOverflow], axis=0,\n",
    "ignore_index = True,sort = False)"
   ]
  },
  {
   "cell_type": "code",
   "execution_count": 5,
   "metadata": {
    "ExecuteTime": {
     "end_time": "2023-01-24T06:30:14.198149Z",
     "start_time": "2023-01-24T06:30:14.174708Z"
    },
    "colab": {
     "base_uri": "https://localhost:8080/"
    },
    "id": "4rH-IQ-jdxT8",
    "outputId": "69b93a80-fac8-4097-ba87-d79dc45cf198"
   },
   "outputs": [
    {
     "data": {
      "text/plain": [
       "(817550, 83)"
      ]
     },
     "execution_count": 5,
     "metadata": {},
     "output_type": "execute_result"
    }
   ],
   "source": [
    "data.shape"
   ]
  },
  {
   "cell_type": "code",
   "execution_count": 6,
   "metadata": {
    "ExecuteTime": {
     "end_time": "2023-01-24T06:30:16.515520Z",
     "start_time": "2023-01-24T06:30:16.502990Z"
    },
    "id": "lN5K2VB2gl1Q"
   },
   "outputs": [],
   "source": [
    "# Removing outer spaces from the column names\n",
    "data.columns= data.columns.str.strip()"
   ]
  },
  {
   "cell_type": "code",
   "execution_count": 7,
   "metadata": {
    "ExecuteTime": {
     "end_time": "2023-01-24T06:30:19.212439Z",
     "start_time": "2023-01-24T06:30:19.202578Z"
    },
    "colab": {
     "base_uri": "https://localhost:8080/"
    },
    "id": "aIXRB7JDiVAA",
    "outputId": "aac0cc2b-93ae-48ba-ba49-5d5e1ae65ab7"
   },
   "outputs": [
    {
     "data": {
      "text/plain": [
       "Index(['duration', 'protocol_type', 'service', 'flag', 'src_bytes',\n",
       "       'dst_bytes', 'land', 'wrong_fragment', 'urgent', 'hot',\n",
       "       'num_failed_logins', 'logged_in', 'num_compromised', 'root_shell',\n",
       "       'su_attempted', 'num_root', 'num_file_creations', 'num_shells',\n",
       "       'num_access_files', 'num_outbound_cmds', 'is_host_login',\n",
       "       'is_guest_login', 'count', 'srv_count', 'serror_rate', 'srv_error_rate',\n",
       "       'rerror_rate', 'srv_rerror_rate', 'same_srv_rate', 'diff_srv_rate',\n",
       "       'srv_diff_host_rate', 'dst_host_count', 'dst_host_srv_count',\n",
       "       'dst_host_same_srv_rate', 'dst_host_diff_srv_rate',\n",
       "       'dst_host_same_src_port_rate', 'dst_host_srv_diff_host_rate',\n",
       "       'dst_host_serror_rate', 'dst_host_srv_serror_rate',\n",
       "       'dst_host_rerror_rate', 'dst_host_srv_rerror_rate', 'attack', '0.0026',\n",
       "       '0', '0.07', '0.3', '0.00116', '0.00451', '0.4', '0.5', '0.6', '0.2',\n",
       "       '0.7', '0.1', '0.8', '0.9', '0.10', '0.11', '0.1.1', '0.12', '0.1.2',\n",
       "       '0.13', '0.14', '0.1.3', '0.001', '0.001.1', '0.15', '0.16', '0.17',\n",
       "       '0.18', '0.1.4', '0.19', '0.20', '0.001.2', '0.001.3', '0.1.5', '0.21',\n",
       "       '0.1.6', '0.22', '0.23', '0.24', '0.25', '0.26'],\n",
       "      dtype='object')"
      ]
     },
     "execution_count": 7,
     "metadata": {},
     "output_type": "execute_result"
    }
   ],
   "source": [
    "data.columns"
   ]
  },
  {
   "cell_type": "code",
   "execution_count": 8,
   "metadata": {},
   "outputs": [],
   "source": [
    "data = data.iloc[:, :42]"
   ]
  },
  {
   "cell_type": "code",
   "execution_count": 13,
   "metadata": {
    "ExecuteTime": {
     "end_time": "2023-01-23T07:25:02.392090Z",
     "start_time": "2023-01-23T07:25:02.089156Z"
    },
    "colab": {
     "base_uri": "https://localhost:8080/"
    },
    "id": "1gy0AkKOYPuS",
    "outputId": "3eae98be-ff20-4f60-e961-c26118383319"
   },
   "outputs": [
    {
     "data": {
      "text/plain": [
       "0"
      ]
     },
     "execution_count": 13,
     "metadata": {},
     "output_type": "execute_result"
    }
   ],
   "source": [
    "# Checking missing values\n",
    "data.isna().sum().sum()"
   ]
  },
  {
   "cell_type": "code",
   "execution_count": 10,
   "metadata": {},
   "outputs": [],
   "source": [
    "data.dropna(inplace=True)"
   ]
  },
  {
   "cell_type": "code",
   "execution_count": 11,
   "metadata": {
    "ExecuteTime": {
     "end_time": "2023-01-23T07:25:03.672733Z",
     "start_time": "2023-01-23T07:25:02.406879Z"
    },
    "id": "tMuPYWBhg5Ab"
   },
   "outputs": [],
   "source": [
    "# Changing the datatypes of the columns\n",
    "data[['protocol_type','service','flag','land','logged_in',\n",
    "'root_shell','su_attempted','is_host_login','is_guest_login']]=data[['protocol_type','service','flag','land',\n",
    "'logged_in','root_shell','su_attempted','is_host_login','is_guest_login']].astype('O')"
   ]
  },
  {
   "cell_type": "code",
   "execution_count": 12,
   "metadata": {
    "ExecuteTime": {
     "end_time": "2023-01-23T07:25:03.764482Z",
     "start_time": "2023-01-23T07:25:03.676738Z"
    },
    "id": "6P2CTTwtfoqV"
   },
   "outputs": [],
   "source": [
    "#Making different groups of features for EDA\n",
    "df_num= data.select_dtypes(include=['int64','float64'])\n",
    "\n",
    "Basic_features=['duration', 'protocol_type', 'flag', 'src_bytes','dst_bytes', 'land', 'wrong_fragment', 'urgent']\n",
    "\n",
    "Content_related_features=['hot','num_failed_logins', 'logged_in', 'num_compromised', 'root_shell',\n",
    "'su_attempted', 'num_root', 'num_file_creations', 'num_shells','num_access_files', 'num_outbound_cmds', 'is_host_login','is_guest_login']\n",
    "\n",
    "Time_realted_features=['count', 'srv_count', 'serror_rate', 'srv_error_rate','rerror_rate', 'srv_rerror_rate', 'same_srv_rate', \n",
    "'diff_srv_rate','srv_diff_host_rate']\n",
    "\n",
    "Host_based_features=['dst_host_count', 'dst_host_srv_count','dst_host_same_srv_rate', 'dst_host_diff_srv_rate',\n",
    "'dst_host_same_src_port_rate', 'dst_host_srv_diff_host_rate','dst_host_serror_rate', 'dst_host_srv_serror_rate',\n",
    "'dst_host_rerror_rate', 'dst_host_srv_rerror_rate']"
   ]
  },
  {
   "cell_type": "markdown",
   "metadata": {
    "id": "zxm0AKapbvYH"
   },
   "source": [
    "# EDA"
   ]
  },
  {
   "cell_type": "code",
   "execution_count": 14,
   "metadata": {
    "ExecuteTime": {
     "end_time": "2023-01-23T07:25:05.007768Z",
     "start_time": "2023-01-23T07:25:03.766589Z"
    },
    "colab": {
     "base_uri": "https://localhost:8080/"
    },
    "id": "zZM4kaELbvYI",
    "outputId": "91617401-b5f6-4c32-da06-f06634ce20fa"
   },
   "outputs": [
    {
     "name": "stdout",
     "output_type": "stream",
     "text": [
      "<class 'pandas.core.frame.DataFrame'>\n",
      "Int64Index: 817543 entries, 0 to 817549\n",
      "Data columns (total 42 columns):\n",
      " #   Column                       Non-Null Count   Dtype  \n",
      "---  ------                       --------------   -----  \n",
      " 0   duration                     817543 non-null  float64\n",
      " 1   protocol_type                817543 non-null  object \n",
      " 2   service                      817543 non-null  object \n",
      " 3   flag                         817543 non-null  object \n",
      " 4   src_bytes                    817543 non-null  float64\n",
      " 5   dst_bytes                    817543 non-null  float64\n",
      " 6   land                         817543 non-null  object \n",
      " 7   wrong_fragment               817543 non-null  float64\n",
      " 8   urgent                       817543 non-null  float64\n",
      " 9   hot                          817543 non-null  float64\n",
      " 10  num_failed_logins            817543 non-null  float64\n",
      " 11  logged_in                    817543 non-null  object \n",
      " 12  num_compromised              817543 non-null  float64\n",
      " 13  root_shell                   817543 non-null  object \n",
      " 14  su_attempted                 817543 non-null  object \n",
      " 15  num_root                     817543 non-null  float64\n",
      " 16  num_file_creations           817543 non-null  float64\n",
      " 17  num_shells                   817543 non-null  float64\n",
      " 18  num_access_files             817543 non-null  float64\n",
      " 19  num_outbound_cmds            817543 non-null  float64\n",
      " 20  is_host_login                817543 non-null  object \n",
      " 21  is_guest_login               817543 non-null  object \n",
      " 22  count                        817543 non-null  float64\n",
      " 23  srv_count                    817543 non-null  float64\n",
      " 24  serror_rate                  817543 non-null  float64\n",
      " 25  srv_error_rate               817543 non-null  float64\n",
      " 26  rerror_rate                  817543 non-null  float64\n",
      " 27  srv_rerror_rate              817543 non-null  float64\n",
      " 28  same_srv_rate                817543 non-null  float64\n",
      " 29  diff_srv_rate                817543 non-null  float64\n",
      " 30  srv_diff_host_rate           817543 non-null  float64\n",
      " 31  dst_host_count               817543 non-null  float64\n",
      " 32  dst_host_srv_count           817543 non-null  float64\n",
      " 33  dst_host_same_srv_rate       817543 non-null  float64\n",
      " 34  dst_host_diff_srv_rate       817543 non-null  float64\n",
      " 35  dst_host_same_src_port_rate  817543 non-null  float64\n",
      " 36  dst_host_srv_diff_host_rate  817543 non-null  float64\n",
      " 37  dst_host_serror_rate         817543 non-null  float64\n",
      " 38  dst_host_srv_serror_rate     817543 non-null  float64\n",
      " 39  dst_host_rerror_rate         817543 non-null  float64\n",
      " 40  dst_host_srv_rerror_rate     817543 non-null  float64\n",
      " 41  attack                       817543 non-null  object \n",
      "dtypes: float64(32), object(10)\n",
      "memory usage: 268.2+ MB\n"
     ]
    }
   ],
   "source": [
    "# Printing the info about columns\n",
    "data.info()"
   ]
  },
  {
   "cell_type": "code",
   "execution_count": 15,
   "metadata": {
    "ExecuteTime": {
     "end_time": "2023-01-23T07:25:05.658179Z",
     "start_time": "2023-01-23T07:25:05.010194Z"
    },
    "colab": {
     "base_uri": "https://localhost:8080/",
     "height": 456
    },
    "id": "SrF0abx1bvYI",
    "outputId": "6c311d8f-8d34-4d3e-917d-e6fb5072cabf"
   },
   "outputs": [
    {
     "data": {
      "text/html": [
       "<div>\n",
       "<style scoped>\n",
       "    .dataframe tbody tr th:only-of-type {\n",
       "        vertical-align: middle;\n",
       "    }\n",
       "\n",
       "    .dataframe tbody tr th {\n",
       "        vertical-align: top;\n",
       "    }\n",
       "\n",
       "    .dataframe thead th {\n",
       "        text-align: right;\n",
       "    }\n",
       "</style>\n",
       "<table border=\"1\" class=\"dataframe\">\n",
       "  <thead>\n",
       "    <tr style=\"text-align: right;\">\n",
       "      <th></th>\n",
       "      <th>duration</th>\n",
       "      <th>src_bytes</th>\n",
       "      <th>dst_bytes</th>\n",
       "      <th>wrong_fragment</th>\n",
       "      <th>urgent</th>\n",
       "      <th>hot</th>\n",
       "      <th>num_failed_logins</th>\n",
       "      <th>num_compromised</th>\n",
       "      <th>num_root</th>\n",
       "      <th>num_file_creations</th>\n",
       "      <th>...</th>\n",
       "      <th>dst_host_count</th>\n",
       "      <th>dst_host_srv_count</th>\n",
       "      <th>dst_host_same_srv_rate</th>\n",
       "      <th>dst_host_diff_srv_rate</th>\n",
       "      <th>dst_host_same_src_port_rate</th>\n",
       "      <th>dst_host_srv_diff_host_rate</th>\n",
       "      <th>dst_host_serror_rate</th>\n",
       "      <th>dst_host_srv_serror_rate</th>\n",
       "      <th>dst_host_rerror_rate</th>\n",
       "      <th>dst_host_srv_rerror_rate</th>\n",
       "    </tr>\n",
       "  </thead>\n",
       "  <tbody>\n",
       "    <tr>\n",
       "      <th>count</th>\n",
       "      <td>817543.000000</td>\n",
       "      <td>817543.000000</td>\n",
       "      <td>817543.000000</td>\n",
       "      <td>8.175430e+05</td>\n",
       "      <td>817543.000000</td>\n",
       "      <td>817543.000000</td>\n",
       "      <td>817543.000000</td>\n",
       "      <td>817543.000000</td>\n",
       "      <td>817543.000000</td>\n",
       "      <td>817543.000000</td>\n",
       "      <td>...</td>\n",
       "      <td>817543.000000</td>\n",
       "      <td>817543.000000</td>\n",
       "      <td>817543.000000</td>\n",
       "      <td>817543.000000</td>\n",
       "      <td>817543.000000</td>\n",
       "      <td>817543.000000</td>\n",
       "      <td>817543.000000</td>\n",
       "      <td>817543.000000</td>\n",
       "      <td>817543.000000</td>\n",
       "      <td>817543.000000</td>\n",
       "    </tr>\n",
       "    <tr>\n",
       "      <th>mean</th>\n",
       "      <td>0.000877</td>\n",
       "      <td>0.004961</td>\n",
       "      <td>0.024862</td>\n",
       "      <td>3.669532e-07</td>\n",
       "      <td>0.000002</td>\n",
       "      <td>0.002455</td>\n",
       "      <td>0.000016</td>\n",
       "      <td>0.000275</td>\n",
       "      <td>0.001462</td>\n",
       "      <td>0.000284</td>\n",
       "      <td>...</td>\n",
       "      <td>0.166870</td>\n",
       "      <td>0.161653</td>\n",
       "      <td>0.066794</td>\n",
       "      <td>0.003380</td>\n",
       "      <td>0.006147</td>\n",
       "      <td>0.001682</td>\n",
       "      <td>0.024865</td>\n",
       "      <td>0.024852</td>\n",
       "      <td>0.005372</td>\n",
       "      <td>0.005279</td>\n",
       "    </tr>\n",
       "    <tr>\n",
       "      <th>std</th>\n",
       "      <td>0.026636</td>\n",
       "      <td>0.033235</td>\n",
       "      <td>0.066634</td>\n",
       "      <td>3.317920e-04</td>\n",
       "      <td>0.000766</td>\n",
       "      <td>0.041469</td>\n",
       "      <td>0.001618</td>\n",
       "      <td>0.010337</td>\n",
       "      <td>0.031776</td>\n",
       "      <td>0.011741</td>\n",
       "      <td>...</td>\n",
       "      <td>0.102057</td>\n",
       "      <td>0.111642</td>\n",
       "      <td>0.043421</td>\n",
       "      <td>0.008556</td>\n",
       "      <td>0.017458</td>\n",
       "      <td>0.003708</td>\n",
       "      <td>0.043062</td>\n",
       "      <td>0.043152</td>\n",
       "      <td>0.021920</td>\n",
       "      <td>0.022070</td>\n",
       "    </tr>\n",
       "    <tr>\n",
       "      <th>min</th>\n",
       "      <td>0.000000</td>\n",
       "      <td>0.000000</td>\n",
       "      <td>0.000000</td>\n",
       "      <td>0.000000e+00</td>\n",
       "      <td>0.000000</td>\n",
       "      <td>0.000000</td>\n",
       "      <td>0.000000</td>\n",
       "      <td>0.000000</td>\n",
       "      <td>0.000000</td>\n",
       "      <td>0.000000</td>\n",
       "      <td>...</td>\n",
       "      <td>0.000000</td>\n",
       "      <td>0.000000</td>\n",
       "      <td>0.000000</td>\n",
       "      <td>0.000000</td>\n",
       "      <td>0.000000</td>\n",
       "      <td>0.000000</td>\n",
       "      <td>0.000000</td>\n",
       "      <td>0.000000</td>\n",
       "      <td>0.000000</td>\n",
       "      <td>0.000000</td>\n",
       "    </tr>\n",
       "    <tr>\n",
       "      <th>10%</th>\n",
       "      <td>0.000000</td>\n",
       "      <td>0.000000</td>\n",
       "      <td>0.000000</td>\n",
       "      <td>0.000000e+00</td>\n",
       "      <td>0.000000</td>\n",
       "      <td>0.000000</td>\n",
       "      <td>0.000000</td>\n",
       "      <td>0.000000</td>\n",
       "      <td>0.000000</td>\n",
       "      <td>0.000000</td>\n",
       "      <td>...</td>\n",
       "      <td>0.013000</td>\n",
       "      <td>0.007000</td>\n",
       "      <td>0.003000</td>\n",
       "      <td>0.000000</td>\n",
       "      <td>0.000000</td>\n",
       "      <td>0.000000</td>\n",
       "      <td>0.000000</td>\n",
       "      <td>0.000000</td>\n",
       "      <td>0.000000</td>\n",
       "      <td>0.000000</td>\n",
       "    </tr>\n",
       "    <tr>\n",
       "      <th>30%</th>\n",
       "      <td>0.000000</td>\n",
       "      <td>0.000000</td>\n",
       "      <td>0.000000</td>\n",
       "      <td>0.000000e+00</td>\n",
       "      <td>0.000000</td>\n",
       "      <td>0.000000</td>\n",
       "      <td>0.000000</td>\n",
       "      <td>0.000000</td>\n",
       "      <td>0.000000</td>\n",
       "      <td>0.000000</td>\n",
       "      <td>...</td>\n",
       "      <td>0.077000</td>\n",
       "      <td>0.023000</td>\n",
       "      <td>0.017000</td>\n",
       "      <td>0.000000</td>\n",
       "      <td>0.000000</td>\n",
       "      <td>0.000000</td>\n",
       "      <td>0.000000</td>\n",
       "      <td>0.000000</td>\n",
       "      <td>0.000000</td>\n",
       "      <td>0.000000</td>\n",
       "    </tr>\n",
       "    <tr>\n",
       "      <th>50%</th>\n",
       "      <td>0.000000</td>\n",
       "      <td>0.002170</td>\n",
       "      <td>0.003670</td>\n",
       "      <td>0.000000e+00</td>\n",
       "      <td>0.000000</td>\n",
       "      <td>0.000000</td>\n",
       "      <td>0.000000</td>\n",
       "      <td>0.000000</td>\n",
       "      <td>0.000000</td>\n",
       "      <td>0.000000</td>\n",
       "      <td>...</td>\n",
       "      <td>0.255000</td>\n",
       "      <td>0.255000</td>\n",
       "      <td>0.100000</td>\n",
       "      <td>0.000000</td>\n",
       "      <td>0.000000</td>\n",
       "      <td>0.000000</td>\n",
       "      <td>0.000000</td>\n",
       "      <td>0.000000</td>\n",
       "      <td>0.000000</td>\n",
       "      <td>0.000000</td>\n",
       "    </tr>\n",
       "    <tr>\n",
       "      <th>70%</th>\n",
       "      <td>0.000000</td>\n",
       "      <td>0.002840</td>\n",
       "      <td>0.014810</td>\n",
       "      <td>0.000000e+00</td>\n",
       "      <td>0.000000</td>\n",
       "      <td>0.000000</td>\n",
       "      <td>0.000000</td>\n",
       "      <td>0.000000</td>\n",
       "      <td>0.000000</td>\n",
       "      <td>0.000000</td>\n",
       "      <td>...</td>\n",
       "      <td>0.255000</td>\n",
       "      <td>0.255000</td>\n",
       "      <td>0.100000</td>\n",
       "      <td>0.005000</td>\n",
       "      <td>0.002000</td>\n",
       "      <td>0.002000</td>\n",
       "      <td>0.000000</td>\n",
       "      <td>0.000000</td>\n",
       "      <td>0.000000</td>\n",
       "      <td>0.000000</td>\n",
       "    </tr>\n",
       "    <tr>\n",
       "      <th>90%</th>\n",
       "      <td>0.000000</td>\n",
       "      <td>0.003670</td>\n",
       "      <td>0.066910</td>\n",
       "      <td>0.000000e+00</td>\n",
       "      <td>0.000000</td>\n",
       "      <td>0.000000</td>\n",
       "      <td>0.000000</td>\n",
       "      <td>0.000000</td>\n",
       "      <td>0.000000</td>\n",
       "      <td>0.000000</td>\n",
       "      <td>...</td>\n",
       "      <td>0.255000</td>\n",
       "      <td>0.255000</td>\n",
       "      <td>0.100000</td>\n",
       "      <td>0.008000</td>\n",
       "      <td>0.014000</td>\n",
       "      <td>0.005000</td>\n",
       "      <td>0.100000</td>\n",
       "      <td>0.100000</td>\n",
       "      <td>0.000000</td>\n",
       "      <td>0.000000</td>\n",
       "    </tr>\n",
       "    <tr>\n",
       "      <th>max</th>\n",
       "      <td>1.000000</td>\n",
       "      <td>1.000000</td>\n",
       "      <td>1.000000</td>\n",
       "      <td>3.000000e-01</td>\n",
       "      <td>0.500000</td>\n",
       "      <td>1.000000</td>\n",
       "      <td>0.500000</td>\n",
       "      <td>1.000000</td>\n",
       "      <td>1.000000</td>\n",
       "      <td>1.000000</td>\n",
       "      <td>...</td>\n",
       "      <td>0.255000</td>\n",
       "      <td>0.255000</td>\n",
       "      <td>0.100000</td>\n",
       "      <td>0.100000</td>\n",
       "      <td>0.100000</td>\n",
       "      <td>0.100000</td>\n",
       "      <td>0.100000</td>\n",
       "      <td>0.100000</td>\n",
       "      <td>0.100000</td>\n",
       "      <td>0.100000</td>\n",
       "    </tr>\n",
       "  </tbody>\n",
       "</table>\n",
       "<p>10 rows × 32 columns</p>\n",
       "</div>"
      ],
      "text/plain": [
       "            duration      src_bytes      dst_bytes  wrong_fragment  \\\n",
       "count  817543.000000  817543.000000  817543.000000    8.175430e+05   \n",
       "mean        0.000877       0.004961       0.024862    3.669532e-07   \n",
       "std         0.026636       0.033235       0.066634    3.317920e-04   \n",
       "min         0.000000       0.000000       0.000000    0.000000e+00   \n",
       "10%         0.000000       0.000000       0.000000    0.000000e+00   \n",
       "30%         0.000000       0.000000       0.000000    0.000000e+00   \n",
       "50%         0.000000       0.002170       0.003670    0.000000e+00   \n",
       "70%         0.000000       0.002840       0.014810    0.000000e+00   \n",
       "90%         0.000000       0.003670       0.066910    0.000000e+00   \n",
       "max         1.000000       1.000000       1.000000    3.000000e-01   \n",
       "\n",
       "              urgent            hot  num_failed_logins  num_compromised  \\\n",
       "count  817543.000000  817543.000000      817543.000000    817543.000000   \n",
       "mean        0.000002       0.002455           0.000016         0.000275   \n",
       "std         0.000766       0.041469           0.001618         0.010337   \n",
       "min         0.000000       0.000000           0.000000         0.000000   \n",
       "10%         0.000000       0.000000           0.000000         0.000000   \n",
       "30%         0.000000       0.000000           0.000000         0.000000   \n",
       "50%         0.000000       0.000000           0.000000         0.000000   \n",
       "70%         0.000000       0.000000           0.000000         0.000000   \n",
       "90%         0.000000       0.000000           0.000000         0.000000   \n",
       "max         0.500000       1.000000           0.500000         1.000000   \n",
       "\n",
       "            num_root  num_file_creations  ...  dst_host_count  \\\n",
       "count  817543.000000       817543.000000  ...   817543.000000   \n",
       "mean        0.001462            0.000284  ...        0.166870   \n",
       "std         0.031776            0.011741  ...        0.102057   \n",
       "min         0.000000            0.000000  ...        0.000000   \n",
       "10%         0.000000            0.000000  ...        0.013000   \n",
       "30%         0.000000            0.000000  ...        0.077000   \n",
       "50%         0.000000            0.000000  ...        0.255000   \n",
       "70%         0.000000            0.000000  ...        0.255000   \n",
       "90%         0.000000            0.000000  ...        0.255000   \n",
       "max         1.000000            1.000000  ...        0.255000   \n",
       "\n",
       "       dst_host_srv_count  dst_host_same_srv_rate  dst_host_diff_srv_rate  \\\n",
       "count       817543.000000           817543.000000           817543.000000   \n",
       "mean             0.161653                0.066794                0.003380   \n",
       "std              0.111642                0.043421                0.008556   \n",
       "min              0.000000                0.000000                0.000000   \n",
       "10%              0.007000                0.003000                0.000000   \n",
       "30%              0.023000                0.017000                0.000000   \n",
       "50%              0.255000                0.100000                0.000000   \n",
       "70%              0.255000                0.100000                0.005000   \n",
       "90%              0.255000                0.100000                0.008000   \n",
       "max              0.255000                0.100000                0.100000   \n",
       "\n",
       "       dst_host_same_src_port_rate  dst_host_srv_diff_host_rate  \\\n",
       "count                817543.000000                817543.000000   \n",
       "mean                      0.006147                     0.001682   \n",
       "std                       0.017458                     0.003708   \n",
       "min                       0.000000                     0.000000   \n",
       "10%                       0.000000                     0.000000   \n",
       "30%                       0.000000                     0.000000   \n",
       "50%                       0.000000                     0.000000   \n",
       "70%                       0.002000                     0.002000   \n",
       "90%                       0.014000                     0.005000   \n",
       "max                       0.100000                     0.100000   \n",
       "\n",
       "       dst_host_serror_rate  dst_host_srv_serror_rate  dst_host_rerror_rate  \\\n",
       "count         817543.000000             817543.000000         817543.000000   \n",
       "mean               0.024865                  0.024852              0.005372   \n",
       "std                0.043062                  0.043152              0.021920   \n",
       "min                0.000000                  0.000000              0.000000   \n",
       "10%                0.000000                  0.000000              0.000000   \n",
       "30%                0.000000                  0.000000              0.000000   \n",
       "50%                0.000000                  0.000000              0.000000   \n",
       "70%                0.000000                  0.000000              0.000000   \n",
       "90%                0.100000                  0.100000              0.000000   \n",
       "max                0.100000                  0.100000              0.100000   \n",
       "\n",
       "       dst_host_srv_rerror_rate  \n",
       "count             817543.000000  \n",
       "mean                   0.005279  \n",
       "std                    0.022070  \n",
       "min                    0.000000  \n",
       "10%                    0.000000  \n",
       "30%                    0.000000  \n",
       "50%                    0.000000  \n",
       "70%                    0.000000  \n",
       "90%                    0.000000  \n",
       "max                    0.100000  \n",
       "\n",
       "[10 rows x 32 columns]"
      ]
     },
     "execution_count": 15,
     "metadata": {},
     "output_type": "execute_result"
    }
   ],
   "source": [
    "# Describing the dataset\n",
    "data.describe(percentiles=[0.1,0.3,0.5,0.7,0.9])"
   ]
  },
  {
   "cell_type": "code",
   "execution_count": 16,
   "metadata": {
    "ExecuteTime": {
     "end_time": "2023-01-23T07:25:06.180384Z",
     "start_time": "2023-01-23T07:25:05.659568Z"
    },
    "colab": {
     "base_uri": "https://localhost:8080/",
     "height": 405
    },
    "id": "mOjxjAT-tmbQ",
    "outputId": "9b0ab19d-c147-4a05-d7ce-d678b5c454ae"
   },
   "outputs": [
    {
     "data": {
      "image/png": "[encoded data removed]",
      "text/plain": [
       "<Figure size 800x600 with 1 Axes>"
      ]
     },
     "metadata": {},
     "output_type": "display_data"
    }
   ],
   "source": [
    "# Counts for each type of attacks\n",
    "plt.figure(figsize=[8,6])\n",
    "sns.countplot(y=data['attack'],)\n",
    "plt.title('NO. of each type of attacks')\n",
    "plt.show()"
   ]
  },
  {
   "cell_type": "code",
   "execution_count": 17,
   "metadata": {
    "ExecuteTime": {
     "end_time": "2023-01-23T07:25:08.399618Z",
     "start_time": "2023-01-23T07:25:06.183810Z"
    },
    "colab": {
     "base_uri": "https://localhost:8080/",
     "height": 726
    },
    "id": "s_J-pp4TYINU",
    "outputId": "6143cd09-6b6c-49b2-d040-201d5825ecbb"
   },
   "outputs": [
    {
     "data": {
      "image/png": "[encoded data removed]",
      "text/plain": [
       "<Figure size 1000x1000 with 2 Axes>"
      ]
     },
     "metadata": {},
     "output_type": "display_data"
    }
   ],
   "source": [
    "# Plotting correlation\n",
    "plt.figure(figsize=[10,10])\n",
    "sns.heatmap(data.corr(),cmap=\"Blues\")\n",
    "plt.show()"
   ]
  },
  {
   "cell_type": "code",
   "execution_count": 20,
   "metadata": {
    "ExecuteTime": {
     "end_time": "2023-01-23T07:25:08.468129Z",
     "start_time": "2023-01-23T07:25:08.463156Z"
    },
    "colab": {
     "base_uri": "https://localhost:8080/",
     "height": 551
    },
    "id": "W2nlY-bM8XM_",
    "outputId": "5ae1071d-1517-4474-e755-64da9e9a50a8"
   },
   "outputs": [
    {
     "data": {
      "image/png": "[encoded data removed]",
      "text/plain": [
       "<Figure size 1200x900 with 1 Axes>"
      ]
     },
     "metadata": {},
     "output_type": "display_data"
    }
   ],
   "source": [
    "# Checking the skewness of data\n",
    "skewness={}\n",
    "for i in data.select_dtypes(include=['int64','float64']):\n",
    "  skewness[i]=data[i].skew()\n",
    "plt.figure(figsize=[12,9])\n",
    "skew=pd.DataFrame.from_dict(skewness,orient ='index').reset_index()\n",
    "sns.barplot(y=skew['index'],x=skew[0])\n",
    "plt.show()"
   ]
  },
  {
   "cell_type": "markdown",
   "metadata": {
    "id": "8UK7Jn-Nw22z"
   },
   "source": [
    "Data preparation continued"
   ]
  },
  {
   "cell_type": "code",
   "execution_count": 21,
   "metadata": {
    "ExecuteTime": {
     "end_time": "2023-01-23T07:25:08.536566Z",
     "start_time": "2023-01-23T07:25:08.471377Z"
    },
    "id": "l5ON_senw22z"
   },
   "outputs": [],
   "source": [
    "# Creating different columns for binary classification \n",
    "data['Normal']= np.where(data['attack']=='Normal','1','0')"
   ]
  },
  {
   "cell_type": "code",
   "execution_count": 22,
   "metadata": {
    "ExecuteTime": {
     "end_time": "2023-01-23T07:25:08.617361Z",
     "start_time": "2023-01-23T07:25:08.539840Z"
    },
    "colab": {
     "base_uri": "https://localhost:8080/",
     "height": 248
    },
    "id": "Ud6Y7AKOw22z",
    "outputId": "11cf0023-3f56-416c-d829-6807d43f0b09"
   },
   "outputs": [
    {
     "data": {
      "image/png": "[encoded data removed]",
      "text/plain": [
       "<Figure size 640x480 with 1 Axes>"
      ]
     },
     "metadata": {},
     "output_type": "display_data"
    }
   ],
   "source": [
    "# Checking if the data is imbalances\n",
    "plt.pie(data['Normal'].value_counts() ,autopct='%.2f',labels=['Normal','Attack'])\n",
    "plt.show()\n",
    "# We can see that the data is imbalanced"
   ]
  },
  {
   "cell_type": "code",
   "execution_count": 23,
   "metadata": {
    "ExecuteTime": {
     "end_time": "2023-01-23T07:25:08.658266Z",
     "start_time": "2023-01-23T07:25:08.620986Z"
    },
    "colab": {
     "base_uri": "https://localhost:8080/"
    },
    "id": "hQYs9FA9w220",
    "outputId": "7951b0f2-e566-4bfb-b395-d843e5b8b13d"
   },
   "outputs": [
    {
     "data": {
      "text/plain": [
       "1    576710\n",
       "0    240833\n",
       "Name: Normal, dtype: int64"
      ]
     },
     "execution_count": 23,
     "metadata": {},
     "output_type": "execute_result"
    }
   ],
   "source": [
    "# Checking the value counts\n",
    "data['Normal'].value_counts()"
   ]
  },
  {
   "cell_type": "markdown",
   "metadata": {
    "id": "Kfc8zXGXw222"
   },
   "source": [
    "Feature Selection and data preparation continued"
   ]
  },
  {
   "cell_type": "code",
   "execution_count": 24,
   "metadata": {
    "ExecuteTime": {
     "end_time": "2023-01-23T07:25:09.128653Z",
     "start_time": "2023-01-23T07:25:08.679805Z"
    },
    "id": "SY_IMm2Yx0Ur"
   },
   "outputs": [],
   "source": [
    "# Taking a 10% sample from the dataset\n",
    "df= data.sample(frac=0.1, random_state=1)"
   ]
  },
  {
   "cell_type": "code",
   "execution_count": 25,
   "metadata": {
    "ExecuteTime": {
     "end_time": "2023-01-23T07:25:09.250312Z",
     "start_time": "2023-01-23T07:25:09.135037Z"
    },
    "id": "wAH-4BMqx0SY"
   },
   "outputs": [],
   "source": [
    "# Splitting sample_features and sample_targets\n",
    "sample_target=df['Normal']\n",
    "sample_features= df.drop(columns=['Normal','attack'])"
   ]
  },
  {
   "cell_type": "code",
   "execution_count": 26,
   "metadata": {
    "ExecuteTime": {
     "end_time": "2023-01-23T07:25:09.511550Z",
     "start_time": "2023-01-23T07:25:09.253288Z"
    },
    "id": "SoQshixezHeL"
   },
   "outputs": [],
   "source": [
    "# We will process the whole dataset parallely\n",
    "target=data['Normal']\n",
    "features= data.drop(columns=['Normal','attack'])"
   ]
  },
  {
   "cell_type": "code",
   "execution_count": 27,
   "metadata": {
    "ExecuteTime": {
     "end_time": "2023-01-23T07:25:10.803459Z",
     "start_time": "2023-01-23T07:25:09.515718Z"
    },
    "id": "7H1G3Ja87yaT"
   },
   "outputs": [],
   "source": [
    "# Splitting the data in features and target variables\n",
    "x_train, x_test, y_train, y_test= train_test_split(features ,target , test_size=0.3, random_state=385)"
   ]
  },
  {
   "cell_type": "code",
   "execution_count": 28,
   "metadata": {
    "ExecuteTime": {
     "end_time": "2023-01-23T07:25:10.819348Z",
     "start_time": "2023-01-23T07:25:10.807928Z"
    },
    "colab": {
     "base_uri": "https://localhost:8080/"
    },
    "id": "8jtGPmTW1YOk",
    "outputId": "1ab09148-2c98-4a86-f4d7-616eb070781a"
   },
   "outputs": [
    {
     "data": {
      "text/plain": [
       "(81754, 41)"
      ]
     },
     "execution_count": 28,
     "metadata": {},
     "output_type": "execute_result"
    }
   ],
   "source": [
    "sample_features.shape"
   ]
  },
  {
   "cell_type": "code",
   "execution_count": 29,
   "metadata": {
    "ExecuteTime": {
     "end_time": "2023-01-23T07:25:16.002158Z",
     "start_time": "2023-01-23T07:25:13.125112Z"
    },
    "id": "GDhKrhRy4rRq"
   },
   "outputs": [],
   "source": [
    "# Outlier treatment:\n",
    "# We are trying to minimize the  outliers by clipping the continuous columns because outliers can affect the accuracy of our analysis.\n",
    "def outlier(x):\n",
    "    if x.dtype in ['float64','int64']:\n",
    "        np.clip(x, a_max = x.quantile(0.95), a_min = x.quantile(0.05) )\n",
    "    return x\n",
    "\n",
    "x_train = x_train.apply(outlier)\n",
    "x_test = x_test.apply(outlier)\n",
    "sample_features= sample_features.apply(outlier)\n"
   ]
  },
  {
   "cell_type": "code",
   "execution_count": 30,
   "metadata": {},
   "outputs": [],
   "source": [
    "# Encoding the datasets\n",
    "sample_features= pd.get_dummies(sample_features, drop_first=True)\n",
    "x_train_1= pd.get_dummies(x_train, drop_first=True)\n",
    "x_test_1= pd.get_dummies(x_test, drop_first=True)"
   ]
  },
  {
   "cell_type": "markdown",
   "metadata": {
    "id": "UwWZwsehBWBd"
   },
   "source": [
    "RFE for feature selection\n"
   ]
  },
  {
   "cell_type": "code",
   "execution_count": 32,
   "metadata": {
    "ExecuteTime": {
     "end_time": "2023-01-23T07:25:16.028912Z",
     "start_time": "2023-01-23T07:25:16.016097Z"
    },
    "colab": {
     "base_uri": "https://localhost:8080/"
    },
    "id": "w_DrscbABZhm",
    "outputId": "4ccc65f5-0185-45cf-9bfc-78c506040112"
   },
   "outputs": [
    {
     "name": "stdout",
     "output_type": "stream",
     "text": [
      "Fitting estimator with 110 features.\n",
      "Fitting estimator with 109 features.\n",
      "Fitting estimator with 108 features.\n",
      "Fitting estimator with 107 features.\n",
      "Fitting estimator with 106 features.\n",
      "Fitting estimator with 105 features.\n",
      "Fitting estimator with 104 features.\n",
      "Fitting estimator with 103 features.\n",
      "Fitting estimator with 102 features.\n",
      "Fitting estimator with 101 features.\n",
      "Fitting estimator with 100 features.\n",
      "Fitting estimator with 99 features.\n",
      "Fitting estimator with 98 features.\n",
      "Fitting estimator with 97 features.\n",
      "Fitting estimator with 96 features.\n",
      "Fitting estimator with 95 features.\n",
      "Fitting estimator with 94 features.\n",
      "Fitting estimator with 93 features.\n",
      "Fitting estimator with 92 features.\n",
      "Fitting estimator with 91 features.\n",
      "Fitting estimator with 90 features.\n",
      "Fitting estimator with 89 features.\n",
      "Fitting estimator with 88 features.\n",
      "Fitting estimator with 87 features.\n",
      "Fitting estimator with 86 features.\n",
      "Fitting estimator with 85 features.\n",
      "Fitting estimator with 84 features.\n",
      "Fitting estimator with 83 features.\n",
      "Fitting estimator with 82 features.\n",
      "Fitting estimator with 81 features.\n",
      "Fitting estimator with 80 features.\n",
      "Fitting estimator with 79 features.\n",
      "Fitting estimator with 78 features.\n",
      "Fitting estimator with 77 features.\n",
      "Fitting estimator with 76 features.\n",
      "Fitting estimator with 75 features.\n",
      "Fitting estimator with 74 features.\n",
      "Fitting estimator with 73 features.\n",
      "Fitting estimator with 72 features.\n",
      "Fitting estimator with 71 features.\n",
      "Fitting estimator with 70 features.\n",
      "Fitting estimator with 69 features.\n",
      "Fitting estimator with 68 features.\n",
      "Fitting estimator with 67 features.\n",
      "Fitting estimator with 66 features.\n",
      "Fitting estimator with 65 features.\n",
      "Fitting estimator with 64 features.\n",
      "Fitting estimator with 63 features.\n",
      "Fitting estimator with 62 features.\n",
      "Fitting estimator with 61 features.\n"
     ]
    }
   ],
   "source": [
    "# Fitting RFE model and getting important features\n",
    "rfe_model= RFE(RandomForestClassifier(),n_features_to_select=60,verbose=True).fit(sample_features, sample_target)\n",
    "l1 = sample_features[sample_features.columns[rfe_model.support_]].columns"
   ]
  },
  {
   "cell_type": "code",
   "execution_count": 33,
   "metadata": {
    "ExecuteTime": {
     "end_time": "2023-01-23T07:25:16.567472Z",
     "start_time": "2023-01-23T07:25:16.044188Z"
    },
    "id": "2u2Jk8xRBZfg"
   },
   "outputs": [],
   "source": [
    "# Feature selection with selectKbest\n",
    "sk= SelectKBest(score_func=f_classif, k=60 ).fit(sample_features,sample_target)\n",
    "l2 = sample_features[sample_features.columns[sk.get_support()]].columns"
   ]
  },
  {
   "cell_type": "code",
   "execution_count": 34,
   "metadata": {
    "ExecuteTime": {
     "end_time": "2023-01-23T07:25:16.835138Z",
     "start_time": "2023-01-23T07:25:16.570090Z"
    },
    "id": "wlpQS2m0RwzQ"
   },
   "outputs": [],
   "source": [
    "# We will use the variables given by both RFE and SelectKBest\n",
    "l3= set(l1).intersection(l2)\n",
    "sample_features_new=sample_features[l3]\n",
    "x_train_new= x_train_1[l3]\n",
    "x_test_new= x_test_1[l3]"
   ]
  },
  {
   "cell_type": "code",
   "execution_count": 35,
   "metadata": {
    "ExecuteTime": {
     "end_time": "2023-01-23T07:25:16.850333Z",
     "start_time": "2023-01-23T07:25:16.837173Z"
    },
    "id": "kVRT8fQtYD5x"
   },
   "outputs": [],
   "source": [
    "# By VIF\n",
    "from statsmodels.stats.outliers_influence import variance_inflation_factor\n",
    "def VIF(x, drop=[]):\n",
    "    x = x.drop(columns = drop)\n",
    "    output = pd.DataFrame()\n",
    "    output['columns'] = x.columns\n",
    "    x= x.values.astype(float)\n",
    "    output['VIF'] = [variance_inflation_factor(x,i) for i in range(x.shape[1])]\n",
    "    return output.sort_values(by='VIF', ascending= False)"
   ]
  },
  {
   "cell_type": "code",
   "execution_count": 36,
   "metadata": {
    "ExecuteTime": {
     "end_time": "2023-01-23T07:25:24.905501Z",
     "start_time": "2023-01-23T07:25:16.853406Z"
    },
    "colab": {
     "base_uri": "https://localhost:8080/",
     "height": 738
    },
    "id": "LW8M5__SYyzF",
    "outputId": "2ebc880a-0b40-47d2-bf5a-bdb306ab9ce9"
   },
   "outputs": [
    {
     "data": {
      "text/html": [
       "<div>\n",
       "<style scoped>\n",
       "    .dataframe tbody tr th:only-of-type {\n",
       "        vertical-align: middle;\n",
       "    }\n",
       "\n",
       "    .dataframe tbody tr th {\n",
       "        vertical-align: top;\n",
       "    }\n",
       "\n",
       "    .dataframe thead th {\n",
       "        text-align: right;\n",
       "    }\n",
       "</style>\n",
       "<table border=\"1\" class=\"dataframe\">\n",
       "  <thead>\n",
       "    <tr style=\"text-align: right;\">\n",
       "      <th></th>\n",
       "      <th>columns</th>\n",
       "      <th>VIF</th>\n",
       "    </tr>\n",
       "  </thead>\n",
       "  <tbody>\n",
       "    <tr>\n",
       "      <th>1</th>\n",
       "      <td>protocol_type_0.01</td>\n",
       "      <td>11.983522</td>\n",
       "    </tr>\n",
       "    <tr>\n",
       "      <th>16</th>\n",
       "      <td>service_0.02</td>\n",
       "      <td>11.662655</td>\n",
       "    </tr>\n",
       "    <tr>\n",
       "      <th>7</th>\n",
       "      <td>dst_host_count</td>\n",
       "      <td>5.575431</td>\n",
       "    </tr>\n",
       "    <tr>\n",
       "      <th>2</th>\n",
       "      <td>count</td>\n",
       "      <td>3.801609</td>\n",
       "    </tr>\n",
       "    <tr>\n",
       "      <th>12</th>\n",
       "      <td>dst_host_srv_count</td>\n",
       "      <td>3.747930</td>\n",
       "    </tr>\n",
       "    <tr>\n",
       "      <th>21</th>\n",
       "      <td>service_0.12</td>\n",
       "      <td>3.221436</td>\n",
       "    </tr>\n",
       "    <tr>\n",
       "      <th>13</th>\n",
       "      <td>protocol_type_0.02</td>\n",
       "      <td>2.912873</td>\n",
       "    </tr>\n",
       "    <tr>\n",
       "      <th>6</th>\n",
       "      <td>service_0.09</td>\n",
       "      <td>2.857969</td>\n",
       "    </tr>\n",
       "    <tr>\n",
       "      <th>20</th>\n",
       "      <td>dst_host_diff_srv_rate</td>\n",
       "      <td>2.698640</td>\n",
       "    </tr>\n",
       "    <tr>\n",
       "      <th>11</th>\n",
       "      <td>dst_host_same_src_port_rate</td>\n",
       "      <td>1.784748</td>\n",
       "    </tr>\n",
       "    <tr>\n",
       "      <th>9</th>\n",
       "      <td>diff_srv_rate</td>\n",
       "      <td>1.735917</td>\n",
       "    </tr>\n",
       "    <tr>\n",
       "      <th>3</th>\n",
       "      <td>dst_host_srv_diff_host_rate</td>\n",
       "      <td>1.578254</td>\n",
       "    </tr>\n",
       "    <tr>\n",
       "      <th>4</th>\n",
       "      <td>srv_diff_host_rate</td>\n",
       "      <td>1.498833</td>\n",
       "    </tr>\n",
       "    <tr>\n",
       "      <th>5</th>\n",
       "      <td>service_0.1</td>\n",
       "      <td>1.492845</td>\n",
       "    </tr>\n",
       "    <tr>\n",
       "      <th>19</th>\n",
       "      <td>dst_host_rerror_rate</td>\n",
       "      <td>1.345014</td>\n",
       "    </tr>\n",
       "    <tr>\n",
       "      <th>14</th>\n",
       "      <td>service_0.01</td>\n",
       "      <td>1.339321</td>\n",
       "    </tr>\n",
       "    <tr>\n",
       "      <th>10</th>\n",
       "      <td>dst_bytes</td>\n",
       "      <td>1.242285</td>\n",
       "    </tr>\n",
       "    <tr>\n",
       "      <th>0</th>\n",
       "      <td>service_0.14</td>\n",
       "      <td>1.241884</td>\n",
       "    </tr>\n",
       "    <tr>\n",
       "      <th>18</th>\n",
       "      <td>flag_0.08</td>\n",
       "      <td>1.199221</td>\n",
       "    </tr>\n",
       "    <tr>\n",
       "      <th>15</th>\n",
       "      <td>flag_0.06</td>\n",
       "      <td>1.067695</td>\n",
       "    </tr>\n",
       "    <tr>\n",
       "      <th>22</th>\n",
       "      <td>service_0.19</td>\n",
       "      <td>1.022950</td>\n",
       "    </tr>\n",
       "    <tr>\n",
       "      <th>8</th>\n",
       "      <td>service_0.24</td>\n",
       "      <td>1.016965</td>\n",
       "    </tr>\n",
       "    <tr>\n",
       "      <th>17</th>\n",
       "      <td>service_0.15</td>\n",
       "      <td>1.014572</td>\n",
       "    </tr>\n",
       "  </tbody>\n",
       "</table>\n",
       "</div>"
      ],
      "text/plain": [
       "                        columns        VIF\n",
       "1            protocol_type_0.01  11.983522\n",
       "16                 service_0.02  11.662655\n",
       "7                dst_host_count   5.575431\n",
       "2                         count   3.801609\n",
       "12           dst_host_srv_count   3.747930\n",
       "21                 service_0.12   3.221436\n",
       "13           protocol_type_0.02   2.912873\n",
       "6                  service_0.09   2.857969\n",
       "20       dst_host_diff_srv_rate   2.698640\n",
       "11  dst_host_same_src_port_rate   1.784748\n",
       "9                 diff_srv_rate   1.735917\n",
       "3   dst_host_srv_diff_host_rate   1.578254\n",
       "4            srv_diff_host_rate   1.498833\n",
       "5                   service_0.1   1.492845\n",
       "19         dst_host_rerror_rate   1.345014\n",
       "14                 service_0.01   1.339321\n",
       "10                    dst_bytes   1.242285\n",
       "0                  service_0.14   1.241884\n",
       "18                    flag_0.08   1.199221\n",
       "15                    flag_0.06   1.067695\n",
       "22                 service_0.19   1.022950\n",
       "8                  service_0.24   1.016965\n",
       "17                 service_0.15   1.014572"
      ]
     },
     "execution_count": 36,
     "metadata": {},
     "output_type": "execute_result"
    }
   ],
   "source": [
    "d = VIF(sample_features_new,drop = ['srv_error_rate','dst_host_srv_serror_rate','serror_rate','flag_0.07','dst_host_serror_rate','rerror_rate','flag_0.05',\n",
    "                                    'same_srv_rate','srv_rerror_rate','dst_host_same_srv_rate','logged_in_0.1',\n",
    "                                    'dst_host_srv_rerror_rate'\n",
    "                                    ])\n",
    "l_final=d['columns']\n",
    "d"
   ]
  },
  {
   "cell_type": "code",
   "execution_count": 37,
   "metadata": {
    "ExecuteTime": {
     "end_time": "2023-01-23T07:25:24.993030Z",
     "start_time": "2023-01-23T07:25:24.907048Z"
    },
    "id": "w20VSWXyd5-K"
   },
   "outputs": [],
   "source": [
    "# Taking most important features\n",
    "sample_features_final= sample_features_new[l_final]\n",
    "x_train_new= x_train_1[l_final]\n",
    "x_test_new= x_test_1[l_final]"
   ]
  },
  {
   "cell_type": "markdown",
   "metadata": {
    "id": "aVzUgVXceHbm"
   },
   "source": [
    "Modelling\n"
   ]
  },
  {
   "cell_type": "code",
   "execution_count": 43,
   "metadata": {
    "ExecuteTime": {
     "end_time": "2023-01-23T07:25:25.000932Z",
     "start_time": "2023-01-23T07:25:24.997164Z"
    },
    "id": "wjIoZEeoeHGK"
   },
   "outputs": [],
   "source": [
    "# Logistic regression\n",
    "L_model = LogisticRegression().fit(x_train_new, y_train)"
   ]
  },
  {
   "cell_type": "code",
   "execution_count": 44,
   "metadata": {
    "ExecuteTime": {
     "end_time": "2023-01-23T07:25:25.018469Z",
     "start_time": "2023-01-23T07:25:25.005419Z"
    },
    "colab": {
     "base_uri": "https://localhost:8080/"
    },
    "id": "nUcsX4ImlNx4",
    "outputId": "c1207960-1970-4e15-d797-93e81743d0d5"
   },
   "outputs": [
    {
     "name": "stdout",
     "output_type": "stream",
     "text": [
      "Train roc_auc score: 0.9992735186692024\n",
      "Test roc_auc_score: 0.9992060398569572\n",
      "Train accuracy: 0.9941689382819598\n",
      "Test accuracy: 0.9941083653058146\n"
     ]
    }
   ],
   "source": [
    "# Calculating metrics (roc_auc_score, accuracy, recall and precision) for the model\n",
    "print('Train roc_auc score:',metrics.roc_auc_score(y_train, L_model.predict_proba(x_train_new)[:,1]))\n",
    "print('Test roc_auc_score:',metrics.roc_auc_score(y_test, L_model.predict_proba(x_test_new)[:,1]))\n",
    "\n",
    "print('Train accuracy:',metrics.accuracy_score(y_train, L_model.predict(x_train_new)))\n",
    "print('Test accuracy:',metrics.accuracy_score(y_test, L_model.predict(x_test_new)))"
   ]
  },
  {
   "cell_type": "code",
   "execution_count": 45,
   "metadata": {
    "ExecuteTime": {
     "end_time": "2023-01-23T07:25:25.642354Z",
     "start_time": "2023-01-23T07:25:25.635899Z"
    },
    "colab": {
     "base_uri": "https://localhost:8080/"
    },
    "id": "9_xstCKwlNx5",
    "outputId": "9011bbdd-fc7b-4b8b-92d5-8bbb9fd210e0"
   },
   "outputs": [
    {
     "data": {
      "text/plain": [
       "BaggingClassifier(n_estimators=50, n_jobs=-1)"
      ]
     },
     "execution_count": 45,
     "metadata": {},
     "output_type": "execute_result"
    }
   ],
   "source": [
    "# Building bagging model\n",
    "from sklearn.ensemble import BaggingClassifier\n",
    "bag_clf = BaggingClassifier(n_estimators=50,n_jobs=-1)\n",
    "bag_clf.fit( x_train_new, y_train )"
   ]
  },
  {
   "cell_type": "code",
   "execution_count": 46,
   "metadata": {
    "ExecuteTime": {
     "end_time": "2023-01-23T07:25:25.653438Z",
     "start_time": "2023-01-23T07:25:25.644273Z"
    },
    "colab": {
     "base_uri": "https://localhost:8080/"
    },
    "id": "NfBqxegYlNx6",
    "outputId": "7f9309c7-8e8f-4988-c0f7-fd182cf0440e"
   },
   "outputs": [
    {
     "name": "stdout",
     "output_type": "stream",
     "text": [
      "Train roc_auc score: 0.9999999991633202\n",
      "Test roc_auc_score: 0.9999161208604023\n",
      "Train accuracy: 0.9999842734325854\n",
      "Test accuracy: 0.9996982830675643\n"
     ]
    }
   ],
   "source": [
    "# Calculating metrics (roc_auc_score, accuracy, recall and precision) for the model\n",
    "print('Train roc_auc score:',metrics.roc_auc_score(y_train, bag_clf.predict_proba(x_train_new)[:,1]))\n",
    "print('Test roc_auc_score:',metrics.roc_auc_score(y_test, bag_clf.predict_proba(x_test_new)[:,1]))\n",
    "\n",
    "print('Train accuracy:',metrics.accuracy_score(y_train, bag_clf.predict(x_train_new)))\n",
    "print('Test accuracy:',metrics.accuracy_score(y_test, bag_clf.predict(x_test_new)))"
   ]
  },
  {
   "cell_type": "code",
   "execution_count": 47,
   "metadata": {
    "ExecuteTime": {
     "end_time": "2023-01-23T07:25:25.675500Z",
     "start_time": "2023-01-23T07:25:25.671119Z"
    },
    "colab": {
     "base_uri": "https://localhost:8080/"
    },
    "id": "SORE-4gWs8cQ",
    "outputId": "26f97784-bb1e-4cd4-f7ab-6329afe8a145"
   },
   "outputs": [
    {
     "data": {
      "text/plain": [
       "RandomForestClassifier(max_depth=7, max_features=20, max_leaf_nodes=30,\n",
       "                       n_estimators=60, n_jobs=-1, oob_score=True)"
      ]
     },
     "execution_count": 47,
     "metadata": {},
     "output_type": "execute_result"
    }
   ],
   "source": [
    "# Building Random forest\n",
    "RF_clf = RandomForestClassifier(oob_score=True,n_estimators=60 , max_depth = 7, max_features=20, max_leaf_nodes= 30,n_jobs=-1)\n",
    "RF_clf.fit( x_train_new, y_train )\n"
   ]
  },
  {
   "cell_type": "code",
   "execution_count": 48,
   "metadata": {
    "ExecuteTime": {
     "end_time": "2023-01-23T07:25:25.685446Z",
     "start_time": "2023-01-23T07:25:25.678113Z"
    },
    "colab": {
     "base_uri": "https://localhost:8080/"
    },
    "id": "zGKY-8I3tX8z",
    "outputId": "2d6a87fb-a949-4c0a-8f22-7acd95644de0"
   },
   "outputs": [
    {
     "name": "stdout",
     "output_type": "stream",
     "text": [
      "Train roc_auc score: 0.999743812109459\n",
      "Test roc_auc_score: 0.9996892482523857\n",
      "Train accuracy: 0.9991699867197875\n",
      "Test accuracy: 0.9991274672494425\n"
     ]
    }
   ],
   "source": [
    "# Calculating metrics (roc_auc_score, accuracy, recall and precision) for the model\n",
    "print('Train roc_auc score:',metrics.roc_auc_score(y_train, RF_clf.predict_proba(x_train_new)[:,1]))\n",
    "print('Test roc_auc_score:',metrics.roc_auc_score(y_test, RF_clf.predict_proba(x_test_new)[:,1]))\n",
    "\n",
    "print('Train accuracy:',metrics.accuracy_score(y_train, RF_clf.predict(x_train_new)))\n",
    "print('Test accuracy:',metrics.accuracy_score(y_test, RF_clf.predict(x_test_new)))"
   ]
  },
  {
   "cell_type": "code",
   "execution_count": 49,
   "metadata": {
    "ExecuteTime": {
     "end_time": "2023-01-23T07:25:25.718297Z",
     "start_time": "2023-01-23T07:25:25.704785Z"
    },
    "id": "1P-BhUTOe5pB"
   },
   "outputs": [],
   "source": [
    "# Building gradient boost model\n",
    "gb_clf= GradientBoostingClassifier(learning_rate=0.2, \n",
    "                               max_depth=8, \n",
    "                               min_samples_leaf=0.1, \n",
    "                               min_samples_split=0.1,\n",
    "                               n_estimators=50,\n",
    "                               subsample=1.0).fit(x_train_new, y_train)"
   ]
  },
  {
   "cell_type": "code",
   "execution_count": 50,
   "metadata": {
    "ExecuteTime": {
     "end_time": "2023-01-23T07:25:25.734334Z",
     "start_time": "2023-01-23T07:25:25.720814Z"
    },
    "colab": {
     "base_uri": "https://localhost:8080/"
    },
    "id": "W5HQva0i_dUT",
    "outputId": "e605f17e-c6f2-442d-ee81-a8f6980da75e"
   },
   "outputs": [
    {
     "name": "stdout",
     "output_type": "stream",
     "text": [
      "Train roc_auc score: 0.9997858035384267\n",
      "Test roc_auc_score: 0.9997667143581916\n",
      "Train accuracy: 0.9957450898161739\n",
      "Test accuracy: 0.9957514994108365\n"
     ]
    }
   ],
   "source": [
    "# Calculating metrics (roc_auc_score, accuracy, recall and precision) for the model\n",
    "print('Train roc_auc score:',metrics.roc_auc_score(y_train, gb_clf.predict_proba(x_train_new)[:,1]))\n",
    "print('Test roc_auc_score:',metrics.roc_auc_score(y_test, gb_clf.predict_proba(x_test_new)[:,1]))\n",
    "\n",
    "print('Train accuracy:',metrics.accuracy_score(y_train, gb_clf.predict(x_train_new)))\n",
    "print('Test accuracy:',metrics.accuracy_score(y_test, gb_clf.predict(x_test_new)))"
   ]
  },
  {
   "cell_type": "markdown",
   "metadata": {
    "id": "ZwvgOSnL_dSR"
   },
   "source": [
    "# Multinomial classification"
   ]
  },
  {
   "cell_type": "code",
   "execution_count": 51,
   "metadata": {
    "ExecuteTime": {
     "end_time": "2023-01-23T07:25:25.820979Z",
     "start_time": "2023-01-23T07:25:25.754639Z"
    },
    "id": "xYQ5G-K9_dLG"
   },
   "outputs": [],
   "source": [
    "# Splitting sample_features and sample_targets\n",
    "# df= data.sample(frac=0.1, random_state=1)\n",
    "mul_target=df['attack']\n",
    "mul_features= df.drop(columns=['Normal','attack'])"
   ]
  },
  {
   "cell_type": "code",
   "execution_count": 52,
   "metadata": {
    "ExecuteTime": {
     "end_time": "2023-01-23T07:25:25.860820Z",
     "start_time": "2023-01-23T07:25:25.823133Z"
    },
    "id": "l4jHeAKilNx9"
   },
   "outputs": [],
   "source": [
    "# Encoding the target variables\n",
    "from sklearn.preprocessing import LabelEncoder\n",
    "encoder= LabelEncoder()\n",
    "mul_target=pd.Series(encoder.fit_transform(mul_target))"
   ]
  },
  {
   "cell_type": "code",
   "execution_count": 53,
   "metadata": {
    "ExecuteTime": {
     "end_time": "2023-01-23T07:25:25.876522Z",
     "start_time": "2023-01-23T07:25:25.862824Z"
    },
    "colab": {
     "base_uri": "https://localhost:8080/"
    },
    "id": "XN8nWLLzlNx9",
    "outputId": "50898d91-09fa-4b5c-808e-ce534c470281",
    "scrolled": true
   },
   "outputs": [
    {
     "name": "stdout",
     "output_type": "stream",
     "text": [
      "['Back' 'BufferOverflow' 'GuessPassword' 'NMap' 'Neptune' 'Normal'\n",
      " 'PortSweep' 'RootKit' 'Satan' 'Smurf']\n"
     ]
    }
   ],
   "source": [
    "print(encoder.classes_)"
   ]
  },
  {
   "cell_type": "code",
   "execution_count": 54,
   "metadata": {
    "ExecuteTime": {
     "end_time": "2023-01-23T07:28:26.042924Z",
     "start_time": "2023-01-23T07:28:25.818122Z"
    },
    "id": "mRM_ibrplNx-"
   },
   "outputs": [],
   "source": [
    "# Splitting the data in features and target variables\n",
    "\n",
    "x_train_mul, x_test_mul, y_train_mul, y_test_mul= train_test_split(mul_features ,mul_target , test_size=0.2, random_state=85)"
   ]
  },
  {
   "cell_type": "code",
   "execution_count": 55,
   "metadata": {
    "id": "PRwA2AN8w3Q0"
   },
   "outputs": [],
   "source": [
    "# Outlier treatment:\n",
    "# We are trying to minimize the  outliers by clipping the continuous columns because outliers can affect the accuracy of our analysis.\n",
    "def outlier(x):\n",
    "    if x.dtype in ['float64','int64']:\n",
    "        np.clip(x, a_max = x.quantile(0.95), a_min = x.quantile(0.05) )\n",
    "    return x\n",
    "\n",
    "x_train_mul = x_train_mul.apply(outlier)\n",
    "x_test_mul = x_test_mul.apply(outlier)"
   ]
  },
  {
   "cell_type": "code",
   "execution_count": 56,
   "metadata": {
    "id": "AOBmOYLcxACw"
   },
   "outputs": [],
   "source": [
    "# Encoding all the tabels\n",
    "x_train_mul= pd.get_dummies(x_train_mul, drop_first=True)\n",
    "x_test_mul= pd.get_dummies(x_test_mul, drop_first=True)"
   ]
  },
  {
   "cell_type": "code",
   "execution_count": 57,
   "metadata": {
    "id": "cnX-tTR1xq_z"
   },
   "outputs": [],
   "source": [
    "# Taking only the important features\n",
    "x_train_mul=x_train_mul[l_final]\n",
    "x_test_mul=x_test_mul[l_final]"
   ]
  },
  {
   "cell_type": "code",
   "execution_count": 58,
   "metadata": {
    "ExecuteTime": {
     "end_time": "2023-01-23T07:28:37.868047Z",
     "start_time": "2023-01-23T07:28:32.697440Z"
    },
    "id": "AEtAj1mi_c7G"
   },
   "outputs": [],
   "source": [
    "# Balancing the dataset\n",
    "from imblearn.over_sampling import SMOTE\n",
    "balancer= SMOTE(k_neighbors=1)\n",
    "x_train_bal, y_train_bal= balancer.fit_resample(x_train_mul, y_train_mul)"
   ]
  },
  {
   "cell_type": "markdown",
   "metadata": {
    "id": "vqIz7VOT_c1s"
   },
   "source": [
    "Modelling"
   ]
  },
  {
   "cell_type": "code",
   "execution_count": 61,
   "metadata": {
    "ExecuteTime": {
     "start_time": "2023-01-23T07:34:25.655Z"
    },
    "id": "WYE8jJOrlNyA"
   },
   "outputs": [],
   "source": [
    "# Gradient boost model\n",
    "gb_clf= GradientBoostingClassifier(learning_rate=0.2, \n",
    "                               max_depth=8, \n",
    "                               min_samples_leaf=0.1, \n",
    "                               min_samples_split=0.1,\n",
    "                               n_estimators=50,\n",
    "                               subsample=1.0).fit(x_train_bal, y_train_bal)"
   ]
  },
  {
   "cell_type": "code",
   "execution_count": 62,
   "metadata": {
    "ExecuteTime": {
     "end_time": "2023-01-23T07:25:27.147371Z",
     "start_time": "2023-01-23T07:25:27.147371Z"
    },
    "colab": {
     "base_uri": "https://localhost:8080/"
    },
    "id": "TVq7BU-nlNyA",
    "outputId": "edd3bed6-edd1-403a-ebac-c62d4a0a2f83"
   },
   "outputs": [
    {
     "name": "stdout",
     "output_type": "stream",
     "text": [
      "Train accuracy:               precision    recall  f1-score   support\n",
      "\n",
      "           0       1.00      1.00      1.00     46068\n",
      "           1       1.00      1.00      1.00     46068\n",
      "           2       1.00      1.00      1.00     46068\n",
      "           3       1.00      1.00      1.00     46068\n",
      "           4       1.00      1.00      1.00     46068\n",
      "           5       1.00      1.00      1.00     46068\n",
      "           6       1.00      1.00      1.00     46068\n",
      "           8       1.00      1.00      1.00     46068\n",
      "           9       1.00      1.00      1.00     46068\n",
      "\n",
      "    accuracy                           1.00    414612\n",
      "   macro avg       1.00      1.00      1.00    414612\n",
      "weighted avg       1.00      1.00      1.00    414612\n",
      "\n",
      "Test accuracy:               precision    recall  f1-score   support\n",
      "\n",
      "           0       0.83      0.83      0.83        18\n",
      "           1       0.00      0.00      0.00         0\n",
      "           2       1.00      0.50      0.67         2\n",
      "           3       0.80      1.00      0.89        28\n",
      "           4       1.00      1.00      1.00      4491\n",
      "           5       1.00      1.00      1.00     11578\n",
      "           6       0.94      0.98      0.96        60\n",
      "           7       0.00      0.00      0.00         1\n",
      "           8       0.89      0.99      0.94       114\n",
      "           9       1.00      1.00      1.00        59\n",
      "\n",
      "    accuracy                           1.00     16351\n",
      "   macro avg       0.75      0.73      0.73     16351\n",
      "weighted avg       1.00      1.00      1.00     16351\n",
      "\n"
     ]
    }
   ],
   "source": [
    "# Calculating metrics for the model\n",
    "\n",
    "print('Train accuracy:',metrics.classification_report(y_train_bal, gb_clf.predict(x_train_bal)))\n",
    "print('Test accuracy:',metrics.classification_report(y_test_mul, gb_clf.predict(x_test_mul)))"
   ]
  },
  {
   "cell_type": "code",
   "execution_count": 63,
   "metadata": {
    "colab": {
     "base_uri": "https://localhost:8080/"
    },
    "id": "1g3EWpLKMOpV",
    "outputId": "1fb41ffa-ad94-4af9-8b98-bbed219b47d5"
   },
   "outputs": [
    {
     "data": {
      "text/plain": [
       "RandomForestClassifier(max_depth=7, max_features=20, max_leaf_nodes=30,\n",
       "                       n_estimators=60, n_jobs=-1, oob_score=True)"
      ]
     },
     "execution_count": 63,
     "metadata": {},
     "output_type": "execute_result"
    }
   ],
   "source": [
    "# Random forest\n",
    "RF_clf = RandomForestClassifier(oob_score=True,n_estimators=60 , max_depth = 7, max_features=20, max_leaf_nodes= 30,n_jobs=-1)\n",
    "RF_clf.fit( x_train_bal, y_train_bal )\n"
   ]
  },
  {
   "cell_type": "code",
   "execution_count": 64,
   "metadata": {
    "colab": {
     "base_uri": "https://localhost:8080/"
    },
    "id": "jh_hIIWDMOlg",
    "outputId": "0cc35e9a-7344-4621-bd46-321d60388ca4"
   },
   "outputs": [
    {
     "name": "stdout",
     "output_type": "stream",
     "text": [
      "Train accuracy:               precision    recall  f1-score   support\n",
      "\n",
      "           0       1.00      1.00      1.00     46068\n",
      "           1       1.00      1.00      1.00     46068\n",
      "           2       1.00      1.00      1.00     46068\n",
      "           3       1.00      1.00      1.00     46068\n",
      "           4       1.00      1.00      1.00     46068\n",
      "           5       1.00      0.99      0.99     46068\n",
      "           6       1.00      1.00      1.00     46068\n",
      "           8       1.00      0.99      1.00     46068\n",
      "           9       1.00      1.00      1.00     46068\n",
      "\n",
      "    accuracy                           1.00    414612\n",
      "   macro avg       1.00      1.00      1.00    414612\n",
      "weighted avg       1.00      1.00      1.00    414612\n",
      "\n",
      "Test accuracy:               precision    recall  f1-score   support\n",
      "\n",
      "           0       0.45      0.83      0.59        18\n",
      "           1       0.00      0.00      0.00         0\n",
      "           2       0.50      0.50      0.50         2\n",
      "           3       0.56      1.00      0.72        28\n",
      "           4       1.00      1.00      1.00      4491\n",
      "           5       1.00      0.99      1.00     11578\n",
      "           6       0.83      1.00      0.91        60\n",
      "           7       0.00      0.00      0.00         1\n",
      "           8       0.97      0.97      0.97       114\n",
      "           9       0.81      1.00      0.89        59\n",
      "\n",
      "    accuracy                           0.99     16351\n",
      "   macro avg       0.61      0.73      0.66     16351\n",
      "weighted avg       1.00      0.99      0.99     16351\n",
      "\n"
     ]
    }
   ],
   "source": [
    "# Calculating metrics for the model\n",
    "\n",
    "print('Train accuracy:',metrics.classification_report(y_train_bal, RF_clf.predict(x_train_bal)))\n",
    "print('Test accuracy:',metrics.classification_report(y_test_mul, RF_clf.predict(x_test_mul)))"
   ]
  },
  {
   "cell_type": "code",
   "execution_count": null,
   "metadata": {
    "id": "sZJDV9zqMOeV"
   },
   "outputs": [],
   "source": []
  },
  {
   "cell_type": "code",
   "execution_count": null,
   "metadata": {
    "id": "eKn7-TVoMOcD"
   },
   "outputs": [],
   "source": []
  }
 ],
 "metadata": {
  "colab": {
   "provenance": []
  },
  "kernelspec": {
   "display_name": "Python 3 (ipykernel)",
   "language": "python",
   "name": "python3"
  },
  "language_info": {
   "codemirror_mode": {
    "name": "ipython",
    "version": 3
   },
   "file_extension": ".py",
   "mimetype": "text/x-python",
   "name": "python",
   "nbconvert_exporter": "python",
   "pygments_lexer": "ipython3",
   "version": "3.9.12"
  },
  "vscode": {
   "interpreter": {
    "hash": "dc07d24e2f18896857f0b2a651fe84ba40ce7b297e58d8804a308c8039f752a6"
   }
  }
 },
 "nbformat": 4,
 "nbformat_minor": 1
}
